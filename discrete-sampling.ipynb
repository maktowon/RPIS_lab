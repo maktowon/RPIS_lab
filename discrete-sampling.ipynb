{
 "cells": [
  {
   "cell_type": "markdown",
   "metadata": {},
   "source": [
    "# Discrete sampling\n",
    "In the last problem of the first session we sampled with given probabilities using prefix sums and binary search. The sampling code is the bottleneck of the whole process, its running times is 3 times higher than the code for uniform probabilities, and the difference would only increase for larger number of outcomes. In the next two problems we discuss two simple, but powerful techniques one can use to sample in time $O(1)$."
   ]
  },
  {
   "cell_type": "markdown",
   "metadata": {},
   "source": [
    "**Problem 2a.** Consider the problem of sampling with known probabilities $p_1,\\ldots,p_d$. Suppose that you have a black-box that samples with probabilities $q_1,\\ldots,q_d$ that are close to $p_1,\\ldots,p_d$, say\n",
    "$$ \\forall_{i=1,\\ldots,n} p_i \\le (1+\\varepsilon)q_i.$$\n",
    "\n",
    "* How can you use this black-box to sample with probabilities $p_1,\\ldots,p_d$? It is expected, that the running time of the algorithm would be non-deterministic.\n",
    "* Prove that your algorithm is correct.\n",
    "* Implement the algorithm and use it to give a faster implementation for **Problem 1c**."
   ]
  },
  {
   "cell_type": "code",
   "execution_count": 18,
   "metadata": {
    "scrolled": true
   },
   "outputs": [
    {
     "data": {
      "image/png": "[encoded data removed]",
      "text/plain": [
       "<Figure size 640x480 with 1 Axes>"
      ]
     },
     "metadata": {},
     "output_type": "display_data"
    }
   ],
   "source": [
    "import numpy as np\n",
    "import pandas as pd\n",
    "import matplotlib.pyplot as plt\n",
    "\n",
    "class Blackbox():\n",
    "\n",
    "    def __init__(self, p, eps) -> None:\n",
    "        self.p = p\n",
    "        self.n = len(p)\n",
    "        self.q = np.amax(p) / (1 + eps)\n",
    "        # self.qarr = p * (1 + np.random.uniform() * eps)\n",
    "    \n",
    "    def getRand(self):\n",
    "\n",
    "        while(True):\n",
    "            i = np.random.randint(0, self.n)\n",
    "            r = np.random.uniform()\n",
    "            if (r < self.p[i] / self.q):\n",
    "                return i\n",
    "                \n",
    "data = pd.read_csv(\"us_births_69_88.csv\")\n",
    "data = data.to_numpy()\n",
    "births = data[:,2]\n",
    "total = np.sum(births)\n",
    "                     \n",
    "propability = births / total\n",
    "blackbox = Blackbox(propability, 0.001)\n",
    "\n",
    "def repeat(length):\n",
    "    s = set()\n",
    "    for k in range(length):\n",
    "        day = blackbox.getRand()\n",
    "        if day in s:\n",
    "            return k + 1\n",
    "        else:\n",
    "            s.add(day)\n",
    "\n",
    "length = len(propability)\n",
    "emp = [repeat(length) for iter in range(100000)]\n",
    "plt.hist(emp, bins = range(1, 101))\n",
    "plt.show()\n"
   ]
  }
 ],
 "metadata": {
  "kernelspec": {
   "display_name": "Python 3 (ipykernel)",
   "language": "python",
   "name": "python3"
  },
  "language_info": {
   "codemirror_mode": {
    "name": "ipython",
    "version": 3
   },
   "file_extension": ".py",
   "mimetype": "text/x-python",
   "name": "python",
   "nbconvert_exporter": "python",
   "pygments_lexer": "ipython3",
   "version": "3.7.0"
  }
 },
 "nbformat": 4,
 "nbformat_minor": 1
}
