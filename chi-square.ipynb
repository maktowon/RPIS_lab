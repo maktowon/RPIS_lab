{
 "cells": [
  {
   "cell_type": "markdown",
   "metadata": {},
   "source": [
    "**Problem 5c (Chi-square independence test).** \n",
    "You are given the results of IPSOS exit polls for 2015 parliamentary elections in Poland in table **data**. Decide if we can assume that gender and voting preferences are independent. To this end:\n",
    " * Compute row totals $r_i$, column totals $c_j$, and overall total $N$.\n",
    " * If the variables are independent, we expect to see $f_{ij} = r_i c_j / N$ in $i$-th row $j$-th column.\n",
    " * Compute the test statistic as before, i.e. $$ S = \\sum_{ij} \\frac{\\left(f_{ij}-X_{ij}\\right)^2}{f_{ij}}.$$\n",
    " * Again test vs $\\chi^2$ CDF. However, if the variables are independent, we only have $(r-1)(c-1)$ degrees of freedom here (we only need to know the row and column totals).\n",
    " * The KORWiN party looks like an obvious outlier. Note, when we work with categorical variables we should not just remove a category -- it is better to aggregate them. Introduce an aggregated category by summing the votes for the parties with less than 5% total votes and repeat the experiment.\n",
    " \n",
    "**Note:** This kind of data is (to the best of our knowledge) not available online. It has been recreated based on\n",
    "online infographics and other tidbits of information available online. It is definitely not completely accurate, hopefully it is not very far off. Moreover, exit polls do not necessary reflect the actual distribution of the population."
   ]
  },
  {
   "cell_type": "code",
   "execution_count": 17,
   "metadata": {},
   "outputs": [],
   "source": [
    "import numpy as np\n",
    "from scipy import stats\n",
    "# Rows: women, men\n",
    "# Columns: PiS, PO, Kukiz, Nowoczesna, Lewica, PSL, Razem, KORWiN\n",
    "data = np.array([[ 17508, 11642,  3308,  3131,  2911,  2205,  1852, 1235],\n",
    " [ 17672,  9318,  4865,  3259,  3029,  2479,  1606, 3259]])"
   ]
  },
  {
   "cell_type": "code",
   "execution_count": 18,
   "metadata": {},
   "outputs": [],
   "source": [
    "#obróbka danych\n",
    "\n",
    "def get_percentage_val(data):\n",
    "    total = np.sum(data)\n",
    "    return np.sum(data, axis=0) / total * 100\n",
    "\n",
    "def get_non_outliers(data, percent):\n",
    "    percentage = get_percentage_val(data)\n",
    "    boolean = percentage > percent\n",
    "    return data[:, boolean]\n",
    "\n",
    "def get_outliers(data, percent):\n",
    "    total = np.sum(data)\n",
    "    percentage = get_percentage_val(data)\n",
    "    boolean = percentage <= percent\n",
    "    \n",
    "    outliers = data[:, boolean]\n",
    "    outliers = np.sum(outliers, axis=1)\n",
    "    outliers = outliers.reshape(len(outliers), 1)\n",
    "    \n",
    "    if np.sum(outliers) / total * 100 > percent:\n",
    "        return outliers\n",
    "    return None\n",
    "\n",
    "def get_full_data(data, percent):\n",
    "    non_outliers = get_non_outliers(data, percent)\n",
    "    #print(non_outliers)\n",
    "    outliers = get_outliers(data, percent)\n",
    "    #print(outliers)\n",
    "    if(outliers is not None):\n",
    "        full_data = np.concatenate((non_outliers, outliers), axis=1)\n",
    "    else:\n",
    "        full_data = non_outliers\n",
    "    return full_data"
   ]
  },
  {
   "cell_type": "code",
   "execution_count": 31,
   "metadata": {},
   "outputs": [],
   "source": [
    "#wlaściwe zadanie\n",
    "\n",
    "def get_E_table(data):\n",
    "    row_len = len(data)\n",
    "    col_len = len(data[0])\n",
    "    row_sum = np.sum(data, axis=1)\n",
    "    col_sum = np.sum(data, axis=0)\n",
    "    total_sum = np.sum(data)\n",
    "    e = np.arange(row_len * col_len).reshape(row_len, col_len)\n",
    "    for i in range(row_len):\n",
    "        for j in range(col_len):\n",
    "            e[i][j] = row_sum[i] * col_sum[j] / total_sum;\n",
    "            \n",
    "    return e\n",
    "\n",
    "def get_p_val(data):\n",
    "    e = get_E_table(data)\n",
    "    row_len = len(data)\n",
    "    col_len = len(data[0])\n",
    "    k = ((data - e)**2) / e\n",
    "    K = np.sum(k)\n",
    "    \n",
    "    parameter = (row_len - 1) * (col_len - 1)\n",
    "    p_val = 1 - stats.chi2.cdf(K, parameter)\n",
    "    return p_val"
   ]
  },
  {
   "cell_type": "code",
   "execution_count": 32,
   "metadata": {},
   "outputs": [
    {
     "name": "stdout",
     "output_type": "stream",
     "text": [
      "[[17508 11642  3308  3131  2911  2205  3087]\n",
      " [17672  9318  4865  3259  3029  2479  4865]]\n",
      "Nowe dane na górze \n",
      "\n",
      "hipoteza odrzucona\n"
     ]
    }
   ],
   "source": [
    "#ustawiam ten procent na więcej niż 5, żeby usunął \n",
    "#się Korwin i coś jeszcze, żeby miał się z kim połączyć\n",
    "new_data = get_full_data(data, 5.1)\n",
    "print(new_data)\n",
    "print(\"Nowe dane na górze \\n\")\n",
    "\n",
    "boundry = 0.05\n",
    "if get_p_val(new_data) > boundry:\n",
    "    print(\"brak podstaw do odrzucenia hipotezy\")\n",
    "else:\n",
    "    print(\"hipoteza odrzucona\")"
   ]
  }
 ],
 "metadata": {
  "kernelspec": {
   "display_name": "Python 3 (ipykernel)",
   "language": "python",
   "name": "python3"
  },
  "language_info": {
   "codemirror_mode": {
    "name": "ipython",
    "version": 3
   },
   "file_extension": ".py",
   "mimetype": "text/x-python",
   "name": "python",
   "nbconvert_exporter": "python",
   "pygments_lexer": "ipython3",
   "version": "3.7.0"
  }
 },
 "nbformat": 4,
 "nbformat_minor": 1
}
